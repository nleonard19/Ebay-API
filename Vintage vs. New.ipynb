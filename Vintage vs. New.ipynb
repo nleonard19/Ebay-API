{
 "cells": [
  {
   "cell_type": "markdown",
   "id": "e74002be",
   "metadata": {},
   "source": [
    "[Resource](https://practicaldatascience.co.uk/data-science/how-to-use-the-ebay-finding-api-using-python)"
   ]
  },
  {
   "cell_type": "code",
   "execution_count": 2,
   "id": "884d78a7",
   "metadata": {},
   "outputs": [
    {
     "name": "stdout",
     "output_type": "stream",
     "text": [
      "Collecting ebaysdk\n",
      "  Downloading ebaysdk-2.2.0-py3-none-any.whl (72 kB)\n",
      "     ---------------------------------------- 72.2/72.2 kB 3.9 MB/s eta 0:00:00\n",
      "Requirement already satisfied: lxml in c:\\users\\nikit\\anaconda3\\lib\\site-packages (from ebaysdk) (4.9.1)\n",
      "Requirement already satisfied: requests in c:\\users\\nikit\\anaconda3\\lib\\site-packages (from ebaysdk) (2.28.1)\n",
      "Requirement already satisfied: charset-normalizer<3,>=2 in c:\\users\\nikit\\anaconda3\\lib\\site-packages (from requests->ebaysdk) (2.0.4)\n",
      "Requirement already satisfied: certifi>=2017.4.17 in c:\\users\\nikit\\anaconda3\\lib\\site-packages (from requests->ebaysdk) (2022.9.14)\n",
      "Requirement already satisfied: urllib3<1.27,>=1.21.1 in c:\\users\\nikit\\anaconda3\\lib\\site-packages (from requests->ebaysdk) (1.26.11)\n",
      "Requirement already satisfied: idna<4,>=2.5 in c:\\users\\nikit\\anaconda3\\lib\\site-packages (from requests->ebaysdk) (3.3)\n",
      "Installing collected packages: ebaysdk\n",
      "Successfully installed ebaysdk-2.2.0\n"
     ]
    }
   ],
   "source": [
    "!pip3 install ebaysdk"
   ]
  },
  {
   "cell_type": "code",
   "execution_count": 3,
   "id": "4c0b560a",
   "metadata": {},
   "outputs": [],
   "source": [
    "import pandas as pd\n",
    "from ebaysdk.finding import Connection as Finding\n",
    "from ebaysdk.exception import ConnectionError"
   ]
  },
  {
   "cell_type": "code",
   "execution_count": 6,
   "id": "aacea88e",
   "metadata": {},
   "outputs": [],
   "source": [
    "pd.set_option('max_colwidth', 1000)"
   ]
  },
  {
   "cell_type": "code",
   "execution_count": 7,
   "id": "5ea030ea",
   "metadata": {},
   "outputs": [],
   "source": [
    "AppID = 'NicoleLe-Vintagev-PRD-275391c0a-4522f08b'"
   ]
  },
  {
   "cell_type": "code",
   "execution_count": null,
   "id": "041dfd16",
   "metadata": {},
   "outputs": [],
   "source": [
    "def get_results(payload):\n",
    "    try:\n",
    "        api = Finding(siteid='EBAY-GB', appid=AppID, config_file=None)\n",
    "        response = api.execute('findItemsAdvanced', payload)\n",
    "        return response.dict()\n",
    "    except ConnectionError as e:\n",
    "        print(e)\n",
    "        print(e.response.dict())"
   ]
  }
 ],
 "metadata": {
  "kernelspec": {
   "display_name": "Python 3 (ipykernel)",
   "language": "python",
   "name": "python3"
  },
  "language_info": {
   "codemirror_mode": {
    "name": "ipython",
    "version": 3
   },
   "file_extension": ".py",
   "mimetype": "text/x-python",
   "name": "python",
   "nbconvert_exporter": "python",
   "pygments_lexer": "ipython3",
   "version": "3.9.13"
  }
 },
 "nbformat": 4,
 "nbformat_minor": 5
}
